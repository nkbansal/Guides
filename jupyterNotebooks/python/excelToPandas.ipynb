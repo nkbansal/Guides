{
 "cells": [
  {
   "cell_type": "markdown",
   "metadata": {},
   "source": [
    "# Import Excel or CSV To Pandas\n",
    "\n",
    "This file covers the process of importing excel and csv files into a pandas dataframe. Note: the methods for importing excel and csv files is almost identical. The major difference is in the method used. This notebook serves as a tutorial for both.\n",
    "\n",
    "__Importing Excel (xlsx):__ <br>\n",
    "The function used is [read_excel](http://pandas.pydata.org/pandas-docs/stable/generated/pandas.read_excel.html). <br>\n",
    "__Importing comma separated values (csv):__ <br>\n",
    "The function used is [read_csv](http://pandas.pydata.org/pandas-docs/stable/generated/pandas.read_csv.html). <br>\n",
    "\n",
    "\n",
    "### Step 1\n",
    "Lets start by importing pandas and os. We will be using pandas to create a dataframe from our data, and os to get file paths."
   ]
  },
  {
   "cell_type": "code",
   "execution_count": 1,
   "metadata": {
    "collapsed": true
   },
   "outputs": [],
   "source": [
    "import pandas as pd\n",
    "import os"
   ]
  },
  {
   "cell_type": "markdown",
   "metadata": {},
   "source": [
    "### Step 2\n",
    "Now lets create a variable, <code>filePath</code>, that is a string containing the full path to the file we want to import. The code below looks in the current working directory for the file given a file name input by the user. This isn't necessary, and is just included for convienence. Alternatively, user can input a full path into the <code>filePath</code> variable."
   ]
  },
  {
   "cell_type": "code",
   "execution_count": 23,
   "metadata": {
    "collapsed": false
   },
   "outputs": [],
   "source": [
    "dirPath = os.path.realpath('.')\n",
    "fileName = 'assets/coolingExample.xlsx'\n",
    "filePath = os.path.join(cwd, fileName)"
   ]
  },
  {
   "cell_type": "markdown",
   "metadata": {},
   "source": [
    "### Step 3\n",
    "Great! Now lets read the data into a dataframe called <code>df</code>.\n",
    "This will allow our data to be accessible by the string in the header."
   ]
  },
  {
   "cell_type": "code",
   "execution_count": 24,
   "metadata": {
    "collapsed": false
   },
   "outputs": [
    {
     "name": "stdout",
     "output_type": "stream",
     "text": [
      "     Time - Dev2/ai0  Temperature - Dev2/ai0\n",
      "0           11:17:30                    85.4\n",
      "1           11:17:30                    85.6\n",
      "2           11:17:30                    84.9\n",
      "3           11:17:30                    85.8\n",
      "4           11:17:30                    85.2\n",
      "5           11:17:30                    85.1\n",
      "6           11:17:30                    86.1\n",
      "7           11:17:30                    85.1\n",
      "8           11:17:30                    85.0\n",
      "9           11:17:30                    85.8\n",
      "10          11:17:31                    85.0\n",
      "11          11:17:31                    85.6\n",
      "12          11:17:31                    85.1\n",
      "13          11:17:31                    85.2\n",
      "14          11:17:31                    85.1\n",
      "15          11:17:31                    85.1\n",
      "16          11:17:31                    85.8\n",
      "17          11:17:31                    85.1\n",
      "18          11:17:31                    85.6\n",
      "19          11:17:31                    85.1\n",
      "20          11:17:32                    86.1\n",
      "21          11:17:32                    86.4\n",
      "22          11:17:32                    85.8\n",
      "23          11:17:32                    86.6\n",
      "24          11:17:32                    86.1\n",
      "25          11:17:32                    85.8\n",
      "26          11:17:32                    85.9\n",
      "27          11:17:32                    86.1\n",
      "28          11:17:32                    85.5\n",
      "29          11:17:32                    85.8\n",
      "...              ...                     ...\n",
      "2439        11:21:33                     4.2\n",
      "2440        11:21:34                     3.1\n",
      "2441        11:21:34                     3.8\n",
      "2442        11:21:34                     5.1\n",
      "2443        11:21:34                     4.4\n",
      "2444        11:21:34                     4.3\n",
      "2445        11:21:34                     4.7\n",
      "2446        11:21:34                     4.3\n",
      "2447        11:21:34                     4.4\n",
      "2448        11:21:34                     4.4\n",
      "2449        11:21:34                     4.4\n",
      "2450        11:21:35                     4.0\n",
      "2451        11:21:35                     2.7\n",
      "2452        11:21:35                     4.6\n",
      "2453        11:21:35                     4.8\n",
      "2454        11:21:35                     3.5\n",
      "2455        11:21:35                     4.2\n",
      "2456        11:21:35                     3.2\n",
      "2457        11:21:35                     3.7\n",
      "2458        11:21:35                     3.8\n",
      "2459        11:21:35                     3.5\n",
      "2460        11:21:36                     3.4\n",
      "2461        11:21:36                     3.9\n",
      "2462        11:21:36                     3.4\n",
      "2463        11:21:36                     4.0\n",
      "2464        11:21:36                     4.1\n",
      "2465        11:21:36                     3.5\n",
      "2466        11:21:36                     3.5\n",
      "2467        11:21:36                     3.1\n",
      "2468        11:21:36                     3.9\n",
      "\n",
      "[2469 rows x 2 columns]\n"
     ]
    }
   ],
   "source": [
    "df = pd.read_excel(filePath,header=0)\n",
    "print(df)"
   ]
  },
  {
   "cell_type": "markdown",
   "metadata": {},
   "source": [
    "Our data is now accessible by a key value. The keys are the column headers in the dataframe. In this example case, those are 'Time (s) - Dev1/ai0' and  'Amplitude - Dev1/ai0'. For example, lets access the data in the first column."
   ]
  },
  {
   "cell_type": "code",
   "execution_count": 28,
   "metadata": {
    "collapsed": false
   },
   "outputs": [
    {
     "data": {
      "text/plain": [
       "0       11:17:30\n",
       "1       11:17:30\n",
       "2       11:17:30\n",
       "3       11:17:30\n",
       "4       11:17:30\n",
       "5       11:17:30\n",
       "6       11:17:30\n",
       "7       11:17:30\n",
       "8       11:17:30\n",
       "9       11:17:30\n",
       "10      11:17:31\n",
       "11      11:17:31\n",
       "12      11:17:31\n",
       "13      11:17:31\n",
       "14      11:17:31\n",
       "15      11:17:31\n",
       "16      11:17:31\n",
       "17      11:17:31\n",
       "18      11:17:31\n",
       "19      11:17:31\n",
       "20      11:17:32\n",
       "21      11:17:32\n",
       "22      11:17:32\n",
       "23      11:17:32\n",
       "24      11:17:32\n",
       "25      11:17:32\n",
       "26      11:17:32\n",
       "27      11:17:32\n",
       "28      11:17:32\n",
       "29      11:17:32\n",
       "          ...   \n",
       "2439    11:21:33\n",
       "2440    11:21:34\n",
       "2441    11:21:34\n",
       "2442    11:21:34\n",
       "2443    11:21:34\n",
       "2444    11:21:34\n",
       "2445    11:21:34\n",
       "2446    11:21:34\n",
       "2447    11:21:34\n",
       "2448    11:21:34\n",
       "2449    11:21:34\n",
       "2450    11:21:35\n",
       "2451    11:21:35\n",
       "2452    11:21:35\n",
       "2453    11:21:35\n",
       "2454    11:21:35\n",
       "2455    11:21:35\n",
       "2456    11:21:35\n",
       "2457    11:21:35\n",
       "2458    11:21:35\n",
       "2459    11:21:35\n",
       "2460    11:21:36\n",
       "2461    11:21:36\n",
       "2462    11:21:36\n",
       "2463    11:21:36\n",
       "2464    11:21:36\n",
       "2465    11:21:36\n",
       "2466    11:21:36\n",
       "2467    11:21:36\n",
       "2468    11:21:36\n",
       "Name: Time - Dev2/ai0, dtype: object"
      ]
     },
     "execution_count": 28,
     "metadata": {},
     "output_type": "execute_result"
    }
   ],
   "source": [
    "df[df.columns[0]]"
   ]
  },
  {
   "cell_type": "markdown",
   "metadata": {},
   "source": [
    "What would happen if we tried to access the data with an invalid key, say <code>1</code> for example? Lets try it to find out.\n",
    "\n",
    "Note: I enclose this code in a <code>try: except:</code> statement in order to prevent a huge error from being generated."
   ]
  },
  {
   "cell_type": "code",
   "execution_count": 29,
   "metadata": {
    "collapsed": false
   },
   "outputs": [
    {
     "name": "stdout",
     "output_type": "stream",
     "text": [
      "KeyError: 1 - not a valid key\n"
     ]
    }
   ],
   "source": [
    "try:\n",
    "    df[1]\n",
    "except KeyError:\n",
    "    print(\"KeyError: 1 - not a valid key\")"
   ]
  },
  {
   "cell_type": "markdown",
   "metadata": {},
   "source": [
    "So lets say you have a large dataframe with unknown columns. There is a simple way to index them without having prior knowledge of what the dataframe columns are. Namely, the <code>columns</code> method in pandas."
   ]
  },
  {
   "cell_type": "code",
   "execution_count": 30,
   "metadata": {
    "collapsed": false
   },
   "outputs": [
    {
     "name": "stdout",
     "output_type": "stream",
     "text": [
      "0       11:17:30\n",
      "1       11:17:30\n",
      "2       11:17:30\n",
      "3       11:17:30\n",
      "4       11:17:30\n",
      "5       11:17:30\n",
      "6       11:17:30\n",
      "7       11:17:30\n",
      "8       11:17:30\n",
      "9       11:17:30\n",
      "10      11:17:31\n",
      "11      11:17:31\n",
      "12      11:17:31\n",
      "13      11:17:31\n",
      "14      11:17:31\n",
      "15      11:17:31\n",
      "16      11:17:31\n",
      "17      11:17:31\n",
      "18      11:17:31\n",
      "19      11:17:31\n",
      "20      11:17:32\n",
      "21      11:17:32\n",
      "22      11:17:32\n",
      "23      11:17:32\n",
      "24      11:17:32\n",
      "25      11:17:32\n",
      "26      11:17:32\n",
      "27      11:17:32\n",
      "28      11:17:32\n",
      "29      11:17:32\n",
      "          ...   \n",
      "2439    11:21:33\n",
      "2440    11:21:34\n",
      "2441    11:21:34\n",
      "2442    11:21:34\n",
      "2443    11:21:34\n",
      "2444    11:21:34\n",
      "2445    11:21:34\n",
      "2446    11:21:34\n",
      "2447    11:21:34\n",
      "2448    11:21:34\n",
      "2449    11:21:34\n",
      "2450    11:21:35\n",
      "2451    11:21:35\n",
      "2452    11:21:35\n",
      "2453    11:21:35\n",
      "2454    11:21:35\n",
      "2455    11:21:35\n",
      "2456    11:21:35\n",
      "2457    11:21:35\n",
      "2458    11:21:35\n",
      "2459    11:21:35\n",
      "2460    11:21:36\n",
      "2461    11:21:36\n",
      "2462    11:21:36\n",
      "2463    11:21:36\n",
      "2464    11:21:36\n",
      "2465    11:21:36\n",
      "2466    11:21:36\n",
      "2467    11:21:36\n",
      "2468    11:21:36\n",
      "Name: Time - Dev2/ai0, dtype: object\n",
      "0       85.4\n",
      "1       85.6\n",
      "2       84.9\n",
      "3       85.8\n",
      "4       85.2\n",
      "5       85.1\n",
      "6       86.1\n",
      "7       85.1\n",
      "8       85.0\n",
      "9       85.8\n",
      "10      85.0\n",
      "11      85.6\n",
      "12      85.1\n",
      "13      85.2\n",
      "14      85.1\n",
      "15      85.1\n",
      "16      85.8\n",
      "17      85.1\n",
      "18      85.6\n",
      "19      85.1\n",
      "20      86.1\n",
      "21      86.4\n",
      "22      85.8\n",
      "23      86.6\n",
      "24      86.1\n",
      "25      85.8\n",
      "26      85.9\n",
      "27      86.1\n",
      "28      85.5\n",
      "29      85.8\n",
      "        ... \n",
      "2439     4.2\n",
      "2440     3.1\n",
      "2441     3.8\n",
      "2442     5.1\n",
      "2443     4.4\n",
      "2444     4.3\n",
      "2445     4.7\n",
      "2446     4.3\n",
      "2447     4.4\n",
      "2448     4.4\n",
      "2449     4.4\n",
      "2450     4.0\n",
      "2451     2.7\n",
      "2452     4.6\n",
      "2453     4.8\n",
      "2454     3.5\n",
      "2455     4.2\n",
      "2456     3.2\n",
      "2457     3.7\n",
      "2458     3.8\n",
      "2459     3.5\n",
      "2460     3.4\n",
      "2461     3.9\n",
      "2462     3.4\n",
      "2463     4.0\n",
      "2464     4.1\n",
      "2465     3.5\n",
      "2466     3.5\n",
      "2467     3.1\n",
      "2468     3.9\n",
      "Name: Temperature - Dev2/ai0, dtype: float64\n"
     ]
    }
   ],
   "source": [
    "cols = df.columns\n",
    "for col in cols:\n",
    "    print(df[col])"
   ]
  },
  {
   "cell_type": "markdown",
   "metadata": {},
   "source": [
    "## Data Manipulation _(Plots)_\n",
    "\n",
    "Now that we have the data easily accessible in python, lets look at how to plot it. <code>Pandas</code> allows you to use matplotlib to plot, however it is done using methods built into pandas.\n",
    "\n",
    "Although the methods to create an manipulate plots are built into <code>Pandas</code>, we will still have to import matplotlib to save and show the plots."
   ]
  },
  {
   "cell_type": "code",
   "execution_count": 31,
   "metadata": {
    "collapsed": true
   },
   "outputs": [],
   "source": [
    "import matplotlib.pyplot as plt"
   ]
  },
  {
   "cell_type": "markdown",
   "metadata": {},
   "source": [
    "In order to demonstrate the plotting capabilities of pandas arrays, lets use the example data that we imported earlier. The data frame contains only the two columns that were in the file; temperature and time. Because of this simplicity, we can trust pandas to properly interpret the first column as time and the second column as th measurement (temperature). Thus we can plot with the simple command.\n",
    "\n",
    "<code>df.plot()</code>"
   ]
  },
  {
   "cell_type": "code",
   "execution_count": 43,
   "metadata": {
    "collapsed": false
   },
   "outputs": [
    {
     "data": {
      "text/plain": [
       "<matplotlib.figure.Figure at 0xb62eac8>"
      ]
     },
     "metadata": {},
     "output_type": "display_data"
    },
    {
     "data": {
      "image/png": "[encoded data removed]",
      "text/plain": [
       "<matplotlib.figure.Figure at 0xa4a9f98>"
      ]
     },
     "metadata": {},
     "output_type": "display_data"
    }
   ],
   "source": [
    "plt.figure(1)\n",
    "ax = df.plot()\n",
    "plt.show()"
   ]
  },
  {
   "cell_type": "markdown",
   "metadata": {
    "collapsed": true
   },
   "source": [
    "While this simplification is nice, it is generally better to specify what data you want to plot. Particularly if you are automating the plotting of a large set of dataframes. To do this, specify the <code>x</code> and <code>y</code> arrays in your dataframe as you would in a standard <code>matplotlib</code> plot call, however since this plotting function is a method of the dataframe, you need only specify the column.\n",
    "\n",
    "I.e."
   ]
  },
  {
   "cell_type": "code",
   "execution_count": 44,
   "metadata": {
    "collapsed": false
   },
   "outputs": [
    {
     "data": {
      "text/plain": [
       "<matplotlib.figure.Figure at 0xa15b5c0>"
      ]
     },
     "metadata": {},
     "output_type": "display_data"
    },
    {
     "data": {
      "image/png": "[encoded data removed]",
      "text/plain": [
       "<matplotlib.figure.Figure at 0x9badb38>"
      ]
     },
     "metadata": {},
     "output_type": "display_data"
    }
   ],
   "source": [
    "plt.figure(2)\n",
    "ax = df.plot(cols[0],cols[1])\n",
    "plt.show()"
   ]
  },
  {
   "cell_type": "markdown",
   "metadata": {},
   "source": [
    "Now that we have the basics down, lets spice up the plot a little bit."
   ]
  },
  {
   "cell_type": "code",
   "execution_count": 45,
   "metadata": {
    "collapsed": false
   },
   "outputs": [
    {
     "data": {
      "text/plain": [
       "<matplotlib.figure.Figure at 0xa0a7a90>"
      ]
     },
     "metadata": {},
     "output_type": "display_data"
    },
    {
     "data": {
      "image/png": "[encoded data removed]",
      "text/plain": [
       "<matplotlib.figure.Figure at 0xa1221d0>"
      ]
     },
     "metadata": {},
     "output_type": "display_data"
    }
   ],
   "source": [
    "plt.figure(3)\n",
    "ax = df.plot(cols[0],cols[1])\n",
    "ax.set_title('This is a Title')\n",
    "ax.set_ylabel('Temperature (deg F)')\n",
    "plt.show()"
   ]
  },
  {
   "cell_type": "code",
   "execution_count": null,
   "metadata": {
    "collapsed": true
   },
   "outputs": [],
   "source": []
  }
 ],
 "metadata": {
  "kernelspec": {
   "display_name": "Python 3",
   "language": "python",
   "name": "python3"
  },
  "language_info": {
   "codemirror_mode": {
    "name": "ipython",
    "version": 3
   },
   "file_extension": ".py",
   "mimetype": "text/x-python",
   "name": "python",
   "nbconvert_exporter": "python",
   "pygments_lexer": "ipython3",
   "version": "3.6.0"
  }
 },
 "nbformat": 4,
 "nbformat_minor": 2
}
