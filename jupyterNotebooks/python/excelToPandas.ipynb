{
 "cells": [
  {
   "cell_type": "markdown",
   "metadata": {},
   "source": [
    "# Import Excel or CSV To Pandas\n",
    "\n",
    "This file covers the process of importing excel and csv files into a pandas dataframe. Note: the methods for importing excel and csv files is almost identical. The major difference is in the method used. This notebook serves as a tutorial for both.\n",
    "\n",
    "__Importing Excel (xlsx):__ <br>\n",
    "The function used is [read_excel](http://pandas.pydata.org/pandas-docs/stable/generated/pandas.read_excel.html). <br>\n",
    "__Importing comma separated values (csv):__ <br>\n",
    "The function used is [read_csv](http://pandas.pydata.org/pandas-docs/stable/generated/pandas.read_csv.html). <br>\n",
    "\n",
    "\n",
    "### Step 1\n",
    "Lets start by importing pandas and os. We will be using pandas to create a dataframe from our data, and os to get file paths."
   ]
  },
  {
   "cell_type": "code",
   "execution_count": 1,
   "metadata": {
    "collapsed": true
   },
   "outputs": [],
   "source": [
    "import pandas as pd\n",
    "import os"
   ]
  },
  {
   "cell_type": "markdown",
   "metadata": {},
   "source": [
    "### Step 2\n",
    "Now lets create a variable, <code>filePath</code>, that is a string containing the full path to the file we want to import. The code below looks in the current working directory for the file given a file name input by the user. This isn't necessary, and is just included for convienence. Alternatively, user can input a full path into the <code>filePath</code> variable."
   ]
  },
  {
   "cell_type": "code",
   "execution_count": 2,
   "metadata": {
    "collapsed": false
   },
   "outputs": [],
   "source": [
    "cwd = os.getcwd()\n",
    "fileName = 'assets/example.xlsx'\n",
    "filePath = os.path.join(cwd, fileName)"
   ]
  },
  {
   "cell_type": "markdown",
   "metadata": {},
   "source": [
    "### Step 3\n",
    "Great! Now lets read the data into a dataframe called <code>df</code>.\n",
    "This will allow our data to be accessible by the string in the header."
   ]
  },
  {
   "cell_type": "code",
   "execution_count": 14,
   "metadata": {
    "collapsed": false
   },
   "outputs": [
    {
     "name": "stdout",
     "output_type": "stream",
     "text": [
      "    Time (s) - Dev1/ai0  Amplitude - Dev1/ai0\n",
      "0                 0.000                  0.00\n",
      "1                 0.002                  0.25\n",
      "2                 0.004                  0.50\n",
      "3                 0.006                  0.75\n",
      "4                 0.008                  1.00\n",
      "5                 0.010                  0.75\n",
      "6                 0.012                  0.50\n",
      "7                 0.014                  0.25\n",
      "8                 0.016                  0.00\n",
      "9                 0.018                 -0.25\n",
      "10                0.020                 -0.50\n",
      "11                0.022                 -0.75\n",
      "12                0.024                 -1.00\n",
      "13                0.026                 -0.75\n",
      "14                0.028                 -0.50\n",
      "15                0.030                 -0.25\n",
      "16                0.032                  0.00\n",
      "17                0.034                  0.25\n",
      "18                0.036                  0.50\n",
      "19                0.038                  0.75\n",
      "20                0.040                  1.00\n",
      "21                0.042                  0.75\n",
      "22                0.044                  0.50\n",
      "23                0.046                  0.25\n",
      "24                0.048                  0.00\n",
      "25                0.050                 -0.25\n",
      "26                0.052                 -0.50\n",
      "27                0.054                 -0.75\n"
     ]
    }
   ],
   "source": [
    "df = pd.read_excel(filePath,header=0)\n",
    "print(df)"
   ]
  },
  {
   "cell_type": "markdown",
   "metadata": {},
   "source": [
    "Our data is now accessible by a key value. The keys are the column headers in the dataframe. In this example case, those are 'Time (s) - Dev1/ai0' and  'Amplitude - Dev1/ai0'. For example, lets access the data in the first column."
   ]
  },
  {
   "cell_type": "code",
   "execution_count": 15,
   "metadata": {
    "collapsed": false
   },
   "outputs": [
    {
     "data": {
      "text/plain": [
       "0     0.000\n",
       "1     0.002\n",
       "2     0.004\n",
       "3     0.006\n",
       "4     0.008\n",
       "5     0.010\n",
       "6     0.012\n",
       "7     0.014\n",
       "8     0.016\n",
       "9     0.018\n",
       "10    0.020\n",
       "11    0.022\n",
       "12    0.024\n",
       "13    0.026\n",
       "14    0.028\n",
       "15    0.030\n",
       "16    0.032\n",
       "17    0.034\n",
       "18    0.036\n",
       "19    0.038\n",
       "20    0.040\n",
       "21    0.042\n",
       "22    0.044\n",
       "23    0.046\n",
       "24    0.048\n",
       "25    0.050\n",
       "26    0.052\n",
       "27    0.054\n",
       "Name: Time (s) - Dev1/ai0, dtype: float64"
      ]
     },
     "execution_count": 15,
     "metadata": {},
     "output_type": "execute_result"
    }
   ],
   "source": [
    "df['Time (s) - Dev1/ai0']"
   ]
  },
  {
   "cell_type": "markdown",
   "metadata": {},
   "source": [
    "What would happen if we tried to access the data with an invalid key, say <code>1</code> for example? Lets try it to find out.\n",
    "\n",
    "Note: I enclose this code in a <code>try: except:</code> statement in order to prevent a huge error from being generated."
   ]
  },
  {
   "cell_type": "code",
   "execution_count": 5,
   "metadata": {
    "collapsed": false
   },
   "outputs": [
    {
     "name": "stdout",
     "output_type": "stream",
     "text": [
      "KeyError: 1 - not a valid key\n"
     ]
    }
   ],
   "source": [
    "try:\n",
    "    df[1]\n",
    "except KeyError:\n",
    "    print(\"KeyError: 1 - not a valid key\")"
   ]
  },
  {
   "cell_type": "markdown",
   "metadata": {},
   "source": [
    "So lets say you have a large dataframe with unknown columns. There is a simple way to index them without having prior knowledge of what the dataframe columns are. Namely, the <code>columns</code> method in pandas."
   ]
  },
  {
   "cell_type": "code",
   "execution_count": 6,
   "metadata": {
    "collapsed": false
   },
   "outputs": [
    {
     "name": "stdout",
     "output_type": "stream",
     "text": [
      "0    0.000\n",
      "1    0.002\n",
      "2    0.004\n",
      "3    0.006\n",
      "4    0.008\n",
      "Name: Time (s) - Dev1/ai0, dtype: float64\n",
      "0   -0.5\n",
      "1   -0.5\n",
      "2   -0.5\n",
      "3   -0.5\n",
      "4   -0.5\n",
      "Name: Amplitude - Dev1/ai0, dtype: float64\n"
     ]
    }
   ],
   "source": [
    "cols = df.columns\n",
    "for col in cols:\n",
    "    print(df[col])"
   ]
  },
  {
   "cell_type": "markdown",
   "metadata": {},
   "source": [
    "## Data Manipulation _(Plots)_\n",
    "\n",
    "Now that we have the data easily accessible in python, lets look at how to plot it. <code>Pandas</code> allows you to use matplotlib to plot, however it is done using methods built into pandas.\n",
    "\n",
    "Although the methods to create an manipulate plots are built into <code>Pandas</code>, we will still have to import matplotlib to save and show the plots."
   ]
  },
  {
   "cell_type": "code",
   "execution_count": 16,
   "metadata": {
    "collapsed": true
   },
   "outputs": [],
   "source": [
    "import matplotlib.pyplot as plt"
   ]
  },
  {
   "cell_type": "code",
   "execution_count": 17,
   "metadata": {
    "collapsed": false
   },
   "outputs": [
    {
     "data": {
      "image/png": "[encoded data removed]",
      "text/plain": [
       "<matplotlib.figure.Figure at 0xa4634a8>"
      ]
     },
     "metadata": {},
     "output_type": "display_data"
    }
   ],
   "source": [
    "ax = df.plot(cols[0],cols[1])\n",
    "plt.show()"
   ]
  },
  {
   "cell_type": "code",
   "execution_count": null,
   "metadata": {
    "collapsed": true
   },
   "outputs": [],
   "source": []
  }
 ],
 "metadata": {
  "kernelspec": {
   "display_name": "Python 3",
   "language": "python",
   "name": "python3"
  },
  "language_info": {
   "codemirror_mode": {
    "name": "ipython",
    "version": 3
   },
   "file_extension": ".py",
   "mimetype": "text/x-python",
   "name": "python",
   "nbconvert_exporter": "python",
   "pygments_lexer": "ipython3",
   "version": "3.6.0"
  }
 },
 "nbformat": 4,
 "nbformat_minor": 2
}
